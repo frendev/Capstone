{
  "nbformat": 4,
  "nbformat_minor": 0,
  "metadata": {
    "colab": {
      "name": "Coursera-week1-assignment.ipynb",
      "provenance": [],
      "collapsed_sections": [],
      "authorship_tag": "ABX9TyNNBtZlYeWnWril5o4JrB2y",
      "include_colab_link": true
    },
    "kernelspec": {
      "name": "python3",
      "display_name": "Python 3"
    }
  },
  "cells": [
    {
      "cell_type": "markdown",
      "metadata": {
        "id": "view-in-github",
        "colab_type": "text"
      },
      "source": [
        "<a href=\"https://colab.research.google.com/github/frendev/Capstone/blob/master/Coursera_week1_assignment.ipynb\" target=\"_parent\"><img src=\"https://colab.research.google.com/assets/colab-badge.svg\" alt=\"Open In Colab\"/></a>"
      ]
    },
    {
      "cell_type": "markdown",
      "metadata": {
        "id": "Czio9Ct8x6zj",
        "colab_type": "text"
      },
      "source": [
        "Coursera-Captsone Project Notebook\n",
        "==="
      ]
    },
    {
      "cell_type": "code",
      "metadata": {
        "id": "Vq4e1sC_yM-E",
        "colab_type": "code",
        "colab": {}
      },
      "source": [
        "import pandas as pd\n",
        "import numpy as np"
      ],
      "execution_count": 0,
      "outputs": []
    },
    {
      "cell_type": "markdown",
      "metadata": {
        "id": "muN5AWolyuA0",
        "colab_type": "text"
      },
      "source": [
        "Hello Capstone Project Course!\n",
        "==="
      ]
    },
    {
      "cell_type": "code",
      "metadata": {
        "id": "rglflIxayxJL",
        "colab_type": "code",
        "colab": {}
      },
      "source": [
        ""
      ],
      "execution_count": 0,
      "outputs": []
    }
  ]
}